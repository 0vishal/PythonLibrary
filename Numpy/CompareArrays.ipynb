{
 "metadata": {
  "language_info": {
   "codemirror_mode": {
    "name": "ipython",
    "version": 3
   },
   "file_extension": ".py",
   "mimetype": "text/x-python",
   "name": "python",
   "nbconvert_exporter": "python",
   "pygments_lexer": "ipython3",
   "version": "3.8.5"
  },
  "orig_nbformat": 2,
  "kernelspec": {
   "name": "python385jvsc74a57bd095c10dbc6f7eccef0c1ace84822d618f7863d3bc26cab307fc0169bb43c23fbe",
   "display_name": "Python 3.8.5 64-bit ('base': conda)"
  }
 },
 "nbformat": 4,
 "nbformat_minor": 2,
 "cells": [
  {
   "cell_type": "code",
   "execution_count": 1,
   "metadata": {},
   "outputs": [],
   "source": [
    "#To compare two arrays"
   ]
  },
  {
   "cell_type": "code",
   "execution_count": 2,
   "metadata": {},
   "outputs": [],
   "source": [
    "import numpy as np"
   ]
  },
  {
   "cell_type": "code",
   "execution_count": 3,
   "metadata": {},
   "outputs": [],
   "source": [
    "array1 = np.array([1,2,5])\n",
    "array2 = np.array([3,5,1])\n"
   ]
  },
  {
   "cell_type": "code",
   "execution_count": 19,
   "metadata": {},
   "outputs": [
    {
     "output_type": "stream",
     "name": "stdout",
     "text": [
      "Array1 values greater than array2 [False False  True]\nArray1 values lesser than array2 [ True  True False]\nArray1 values greater than equal to  array2 [False False  True]\nArray1 values lesser than equal to  array2 [ True  True False]\nArray1 values  equal to  array2 [False False False]\nArray1 values not equal to  array2 [ True  True  True]\n"
     ]
    }
   ],
   "source": [
    "print(\"Array1 values greater than array2\", array1 > array2)\n",
    "print(\"Array1 values lesser than array2\", array1 < array2)\n",
    "print(\"Array1 values greater than equal to  array2\", array1 >= array2)\n",
    "print(\"Array1 values lesser than equal to  array2\", array1 <= array2)\n",
    "print(\"Array1 values  equal to  array2\", array1 == array2)\n",
    "print(\"Array1 values not equal to  array2\", array1 != array2)\n",
    "\n",
    "\n",
    "\n",
    "\n",
    "\n"
   ]
  },
  {
   "cell_type": "code",
   "execution_count": null,
   "metadata": {},
   "outputs": [],
   "source": []
  }
 ]
}